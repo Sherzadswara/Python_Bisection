{
  "nbformat": 4,
  "nbformat_minor": 0,
  "metadata": {
    "colab": {
      "provenance": [],
      "collapsed_sections": [],
      "authorship_tag": "ABX9TyMuh7rDCxnsYnD6OYJqTfLZ",
      "include_colab_link": true
    },
    "kernelspec": {
      "name": "python3",
      "display_name": "Python 3"
    },
    "language_info": {
      "name": "python"
    }
  },
  "cells": [
    {
      "cell_type": "markdown",
      "metadata": {
        "id": "view-in-github",
        "colab_type": "text"
      },
      "source": [
        "<a href=\"https://colab.research.google.com/github/Sherzadswara/Python_Bisection/blob/main/bisection.ipynb\" target=\"_parent\"><img src=\"https://colab.research.google.com/assets/colab-badge.svg\" alt=\"Open In Colab\"/></a>"
      ]
    },
    {
      "cell_type": "code",
      "execution_count": 3,
      "metadata": {
        "colab": {
          "base_uri": "https://localhost:8080/"
        },
        "id": "qIJEkD_WtDnA",
        "outputId": "b43fe40c-5b67-4e76-db58-0276e30d15f9"
      },
      "outputs": [
        {
          "output_type": "stream",
          "name": "stdout",
          "text": [
            "Interval (1, 2)\n",
            "last mid-point is :\n",
            "1.2599210498948734\n"
          ]
        }
      ],
      "source": [
        "def bisectionM(function1, a , b ):\n",
        "    faa = function1(a)\n",
        "    fbb = function1(b)\n",
        "\n",
        "    if faa * fbb > 0:\n",
        "        print(\"function a and function b  must have different signs !\")\n",
        "        return None\n",
        "\n",
        "    for _ in range(50):\n",
        "        m = (a + b) / 2\n",
        "        fcc = function1(m)\n",
        "\n",
        "        if fcc == 0:\n",
        "            return m\n",
        "        if faa * fcc > 0:\n",
        "            a = m\n",
        "            faa = fcc\n",
        "        if fbb * fcc > 0:\n",
        "            b = m\n",
        "            fbb = fcc\n",
        "\n",
        "    return m\n",
        "\n",
        "\n",
        "fcc = lambda x: x**4 - 2 * x\n",
        "\n",
        "a=1\n",
        "b=2\n",
        "print(f\"Interval {a,b}\")\n",
        "x = bisectionM(fcc, a, b)\n",
        "print(\"last mid-point is :\")\n",
        "print(x)"
      ]
    }
  ]
}